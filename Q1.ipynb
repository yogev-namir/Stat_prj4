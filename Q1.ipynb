{
 "cells": [
  {
   "cell_type": "markdown",
   "metadata": {},
   "source": [
    "PART A"
   ]
  },
  {
   "cell_type": "code",
   "execution_count": 309,
   "metadata": {},
   "outputs": [],
   "source": [
    "import numpy as np\n",
    "import pandas as pd\n",
    "import matplotlib.pyplot as plt\n",
    "import seaborn as sns"
   ]
  },
  {
   "cell_type": "code",
   "execution_count": 310,
   "metadata": {},
   "outputs": [
    {
     "name": "stdout",
     "output_type": "stream",
     "text": [
      "Data size after dropping Null values is 99.5% of the original data size\n"
     ]
    }
   ],
   "source": [
    "df = pd.read_csv(r'framingham_heart_disease.csv')\n",
    "df = df[['male', 'age', 'BMI', 'heartRate', 'sysBP']]\n",
    "original_size = df.shape[0]\n",
    "df.dropna(how='any', inplace=True)\n",
    "no_null_size = df.shape[0]\n",
    "df.insert(loc=0, column='intercept', value=1)\n",
    "print(f'Data size after dropping Null values is'\n",
    " f' {no_null_size / original_size * 100:0.3}% of the original data size')"
   ]
  },
  {
   "cell_type": "code",
   "execution_count": 311,
   "metadata": {},
   "outputs": [],
   "source": [
    "def generate_sample(df, size):\n",
    "    np.random.seed(555)\n",
    "    flag = True\n",
    "    sample = None\n",
    "    while flag: #will take another sample if there is one sex only\n",
    "        sample = df.sample(size,ignore_index=True)\n",
    "        counts_gender = sample[['male', 'sysBP']].groupby('male').count()\n",
    "        male_count = counts_gender['sysBP'][1]\n",
    "        female_count = counts_gender['sysBP'][0]\n",
    "        if female_count != 0 and male_count != 0:\n",
    "            if abs(female_count - male_count) <= size * 0.1:\n",
    "                flag = False\n",
    "    return sample\n",
    "\n",
    "sample = generate_sample(df, 200)\n",
    "X_variables = ['intercept','age', 'BMI', 'heartRate']\n",
    "y_variable = 'sysBP'\n",
    "X = df[X_variables]\n",
    "y = df[y_variable]\n",
    "X_sample = sample[X_variables]\n",
    "y_sample = sample[y_variable]"
   ]
  },
  {
   "cell_type": "code",
   "execution_count": 312,
   "metadata": {},
   "outputs": [],
   "source": [
    "import scipy.stats as stats\n",
    "z_alpha = stats.norm.ppf(0.975)\n",
    "#Q1.a\n",
    "def calculate_beta(X, y):\n",
    "    # Calculate MLE\n",
    "    C = X.T @ X\n",
    "    C_inv = np.linalg.inv(C)\n",
    "    C_inv_X = C_inv @ X.T\n",
    "    beta = C_inv_X @ y\n",
    "    return np.round(beta, 4).to_numpy()\n",
    "\n",
    "def beta_CI(X, y, beta_sample, x_variables):\n",
    "    n = X.shape[0]\n",
    "    p = X.shape[1]\n",
    "    C = np.linalg.inv(X.T @ X)\n",
    "    e = y - np.dot(X,beta_sample) #residuals\n",
    "    res_var_estimate = (1 / (n - p)) * (e.T @ e) #sigma-hat squared\n",
    "    CI = []\n",
    "    for i, variable in enumerate(x_variables):\n",
    "        std_estimate = np.sqrt(res_var_estimate * (C[i][i])) #SE of Beta_i\n",
    "        CI.append(np.round([beta_sample[i] - z_alpha * std_estimate,\n",
    "                            beta_sample[i] + z_alpha * std_estimate], 4))\n",
    "    return CI"
   ]
  },
  {
   "cell_type": "code",
   "execution_count": 313,
   "metadata": {},
   "outputs": [
    {
     "name": "stdout",
     "output_type": "stream",
     "text": [
      "Beta = [41.7462  0.9039  0.785   0.3429]\n",
      "CI for beta_0 is: [15.3282 68.1642]\n",
      "CI for beta_1 is: [0.6169 1.1909]\n",
      "CI for beta_2 is: [0.0966 1.4734]\n",
      "CI for beta_3 is: [0.1438 0.542 ]\n"
     ]
    }
   ],
   "source": [
    "#Q1.a\n",
    "beta_sample = calculate_beta(X_sample,y_sample)\n",
    "regular_CI = beta_CI(X_sample, y_sample, beta_sample,X_variables)\n",
    "print(f'Beta = {beta_sample}')\n",
    "for i in range(beta_sample.size):\n",
    "    print(f\"CI for beta_{i} is: {regular_CI[i]}\")\n"
   ]
  },
  {
   "cell_type": "code",
   "execution_count": 314,
   "metadata": {},
   "outputs": [
    {
     "name": "stdout",
     "output_type": "stream",
     "text": [
      "Normal based CI for beta_0 is: [20.7928 62.6996]\n",
      "Normal based CI for beta_1 is: [0.6238 1.184 ]\n",
      "Normal based CI for beta_2 is: [0.007 1.563]\n",
      "Normal based CI for beta_3 is: [0.1655 0.5203]\n"
     ]
    }
   ],
   "source": [
    "#Q1.b\n",
    "B = 400\n",
    "bootstrap_beta_hist = []\n",
    "bootstrap_beta_var = []\n",
    "np.random.seed(555)\n",
    "for i in range(B):\n",
    "    bootstrap_data = sample.sample(frac=1,replace=True) # sampling 200 rows with returns\n",
    "    X_i = bootstrap_data[X_variables]\n",
    "    y_i = bootstrap_data[y_variable]\n",
    "    bootstrap_beta = calculate_beta(X_i,y_i)\n",
    "    bootstrap_beta_hist.append(bootstrap_beta)\n",
    "    bootstrap_beta_var.append(bootstrap_beta)\n",
    "beta_se = np.std(bootstrap_beta_var,axis=0)\n",
    "normal_CI = []\n",
    "for i in range(X_sample.shape[1]):\n",
    "    CI = np.round([beta_sample[i] - z_alpha * beta_se[i],\n",
    "                        beta_sample[i] + z_alpha * beta_se[i]], 4)\n",
    "    normal_CI.append(CI)\n",
    "    print(f\"Normal based CI for beta_{i} is: {CI}\")"
   ]
  },
  {
   "cell_type": "code",
   "execution_count": 315,
   "metadata": {},
   "outputs": [
    {
     "name": "stdout",
     "output_type": "stream",
     "text": [
      "Pivotal CI for beta_0 is: [22.9332 63.2129]\n",
      "Pivotal CI for beta_1 is: [0.6028 1.1811]\n",
      "Pivotal CI for beta_2 is: [0.0458 1.5722]\n",
      "Pivotal CI for beta_3 is: [0.1641 0.4998]\n"
     ]
    }
   ],
   "source": [
    "#Q1.c\n",
    "bootstrap_beta_hist = np.array(bootstrap_beta_hist)\n",
    "pivotal_CI = []\n",
    "for i,(beta_est,beta_bootstrap) in enumerate(zip(beta_sample,bootstrap_beta_hist.T)):\n",
    "    beta_quantiles = np.quantile(beta_bootstrap,[0.025,0.975])\n",
    "    CI = np.round([2*beta_est - beta_quantiles[1], 2*beta_est - beta_quantiles[0]],4)\n",
    "    pivotal_CI.append(CI)\n",
    "    print(f\"Pivotal CI for beta_{i} is: {CI}\")"
   ]
  },
  {
   "cell_type": "code",
   "execution_count": 316,
   "metadata": {},
   "outputs": [
    {
     "name": "stdout",
     "output_type": "stream",
     "text": [
      "Pivotal CI for beta_0 is: [20.2795 60.5592]\n",
      "Pivotal CI for beta_1 is: [0.6267 1.205 ]\n",
      "Pivotal CI for beta_2 is: [-0.0022  1.5242]\n",
      "Pivotal CI for beta_3 is: [0.186  0.5217]\n"
     ]
    }
   ],
   "source": [
    "#Q1.d\n",
    "quantile_CI = []\n",
    "for i,(beta_est,beta_bootstrap) in enumerate(zip(beta_sample,bootstrap_beta_hist.T)):\n",
    "    beta_quantiles = np.quantile(beta_bootstrap,[0.025,0.975])\n",
    "    CI = np.round([beta_quantiles[0], beta_quantiles[1]],4)\n",
    "    quantile_CI.append(CI)\n",
    "    print(f\"Pivotal CI for beta_{i} is: {CI}\")"
   ]
  },
  {
   "cell_type": "code",
   "execution_count": 317,
   "metadata": {},
   "outputs": [],
   "source": [
    "#Q2\n",
    "regular_CI_lengths = [ci[1]-ci[0] for ci in regular_CI]\n",
    "normal_CI_lengths = [ci[1]-ci[0] for ci in normal_CI]\n",
    "pivotal_CI_lengths = [ci[1]-ci[0] for ci in pivotal_CI]\n",
    "quantile_CI_lengths = [ci[1]-ci[0] for ci in quantile_CI]\n",
    "data = list(zip(regular_CI_lengths,normal_CI_lengths,pivotal_CI_lengths,quantile_CI_lengths))\n",
    "CI_lengths_comparison = pd.DataFrame(data,index=['regular','normal','pivotal','quantile'],columns=['beta 0','beta 1', 'beta 2', 'beta 3'])"
   ]
  },
  {
   "cell_type": "code",
   "execution_count": 318,
   "metadata": {},
   "outputs": [],
   "source": [
    "def CI_contains(CI,type,actual_betas):\n",
    "    for i,ci in enumerate(CI):\n",
    "        decision = 'contains' if ci[0]<=actual_betas[i]<=ci[1] else \"doesn't contain\"\n",
    "        print(f'the {type} CI {list(ci)} {decision} beta_{i} = {actual_betas[i]}')"
   ]
  },
  {
   "cell_type": "code",
   "execution_count": 319,
   "metadata": {},
   "outputs": [
    {
     "name": "stdout",
     "output_type": "stream",
     "text": [
      "Regular CI\n",
      "the regular CI [15.3282, 68.1642] contains beta_0 = 26.1297\n",
      "the regular CI [0.6169, 1.1909] contains beta_1 = 0.9203\n",
      "the regular CI [0.0966, 1.4734] contains beta_2 = 1.4356\n",
      "the regular CI [0.1438, 0.542] contains beta_3 = 0.3102\n",
      "\n",
      "Normal CI\n",
      "the normal CI [20.7928, 62.6996] contains beta_0 = 26.1297\n",
      "the normal CI [0.6238, 1.184] contains beta_1 = 0.9203\n",
      "the normal CI [0.007, 1.563] contains beta_2 = 1.4356\n",
      "the normal CI [0.1655, 0.5203] contains beta_3 = 0.3102\n",
      "\n",
      "Pivotal CI\n",
      "the pivotal CI [22.9332, 63.2129] contains beta_0 = 26.1297\n",
      "the pivotal CI [0.6028, 1.1811] contains beta_1 = 0.9203\n",
      "the pivotal CI [0.0458, 1.5722] contains beta_2 = 1.4356\n",
      "the pivotal CI [0.1641, 0.4998] contains beta_3 = 0.3102\n",
      "\n",
      "Quantile CI\n",
      "the quantile CI [20.2795, 60.5592] contains beta_0 = 26.1297\n",
      "the quantile CI [0.6267, 1.205] contains beta_1 = 0.9203\n",
      "the quantile CI [-0.0022, 1.5242] contains beta_2 = 1.4356\n",
      "the quantile CI [0.186, 0.5217] contains beta_3 = 0.3102\n"
     ]
    }
   ],
   "source": [
    "actual_betas = calculate_beta(X,y)\n",
    "print(\"Regular CI\")\n",
    "CI_contains(regular_CI,'regular',actual_betas)\n",
    "print(\"\\nNormal CI\")\n",
    "CI_contains(normal_CI,'normal',actual_betas)\n",
    "print(\"\\nPivotal CI\")\n",
    "CI_contains(pivotal_CI,'pivotal',actual_betas)\n",
    "print(\"\\nQuantile CI\")\n",
    "CI_contains(quantile_CI,'quantile',actual_betas)"
   ]
  },
  {
   "cell_type": "code",
   "execution_count": 320,
   "metadata": {},
   "outputs": [],
   "source": [
    "#Q3 - new sample\n",
    "df_new = df.merge(sample, how='left', indicator=True)\n",
    "df_new = df_new[df_new['_merge'] == 'left_only']\n",
    "new_sample = generate_sample(df_new,100)\n",
    "new_X_sample = new_sample[X_variables]\n",
    "new_y_sample = new_sample[y_variable]"
   ]
  },
  {
   "cell_type": "code",
   "execution_count": 321,
   "metadata": {},
   "outputs": [],
   "source": [
    "#Q3.a - prediction\n",
    "new_beta_sample = calculate_beta(new_X_sample,new_y_sample)\n",
    "new_y_pred = np.matmul(new_X_sample, new_beta_sample)"
   ]
  },
  {
   "cell_type": "code",
   "execution_count": 322,
   "metadata": {},
   "outputs": [],
   "source": [
    "#Q3.b - CI for E[y_new|x_new]\n",
    "B = 400\n",
    "prediction_hist = []\n",
    "for i in range(B):\n",
    "    bootstrap_data = new_sample.sample(frac=1,replace=True) # sampling 200 rows with returns\n",
    "    X_i = bootstrap_data[X_variables]\n",
    "    y_i = bootstrap_data[y_variable]\n",
    "    bootstrap_beta = calculate_beta(X_i,y_i)\n",
    "    bootstrap_y_pred = np.matmul(X_i,bootstrap_beta)\n",
    "    prediction_hist.append(bootstrap_y_pred)\n",
    "\n",
    "prediction_hist = np.array(prediction_hist)\n",
    "pred_se = np.std(prediction_hist,axis=0)\n",
    "pred_mean = np.mean(prediction_hist,axis=0)\n",
    "normal_CI = []\n",
    "for i in range(prediction_hist.shape[1]):\n",
    "    CI = np.round([pred_mean[i] - z_alpha * pred_se[i],\n",
    "                        pred_mean[i] + z_alpha * pred_se[i]], 4)\n",
    "    normal_CI.append(CI)\n"
   ]
  },
  {
   "cell_type": "code",
   "execution_count": 335,
   "metadata": {},
   "outputs": [
    {
     "name": "stdout",
     "output_type": "stream",
     "text": [
      "0.96% of the Bootstraped-CIs contain the predicted value of Ynew,\n",
      "which is 0.01 far from the desired confidence level of 95%\n"
     ]
    }
   ],
   "source": [
    "#Q3.c\n",
    "actual_confidence = np.mean([ int(ci[0]<=pred<=ci[1])\n",
    "                              for ci,pred in zip(normal_CI,new_y_pred)])\n",
    "print(f'{actual_confidence}% of the Bootstraped-CIs contain the predicted value of Ynew,\\n'\n",
    "      f'which is {np.abs(actual_confidence-0.95):.3} far from the desired confidence level of 95%')"
   ]
  },
  {
   "cell_type": "markdown",
   "metadata": {},
   "source": [
    "#Q3.d<br>\n",
    "We will use the formula from Tirgul 5:<br>\n",
    "$CI(Y_{new}|x_{new})=\\hat{Y}_{new}\\ \\pm\\ Z_{\\frac{\\alpha}{2}}\\sqrt{\\hat{\\sigma^2_{\\epsilon}} \\cdot X_{new} \\cdot C \\cdot X_{new}^T\\ + \\hat{\\sigma^2_{\\epsilon}}}$<br>\n",
    "So, we will calculate $\\hat{\\sigma^2_{\\epsilon}}$ within every bootstrap sample(aka the noise variance) and add it to the variance of the prediction $Var(\\hat{Y}_{new})$.<br>\n",
    "Normal estimation is still valid (as we used it in the CI of $E[\\hat{Y}_{new}|\\hat{x}_{new}]$) because the \"noise\" is normally distributed too."
   ]
  }
 ],
 "metadata": {
  "kernelspec": {
   "display_name": "Python 3 (ipykernel)",
   "language": "python",
   "name": "python3"
  },
  "language_info": {
   "codemirror_mode": {
    "name": "ipython",
    "version": 3
   },
   "file_extension": ".py",
   "mimetype": "text/x-python",
   "name": "python",
   "nbconvert_exporter": "python",
   "pygments_lexer": "ipython3",
   "version": "3.9.15"
  }
 },
 "nbformat": 4,
 "nbformat_minor": 1
}
