{
 "cells": [
  {
   "cell_type": "code",
   "execution_count": 122,
   "outputs": [],
   "source": [
    "import numpy as np\n",
    "import pandas as pd\n",
    "import matplotlib.pyplot as plt\n",
    "import seaborn as sns"
   ],
   "metadata": {
    "collapsed": false
   }
  },
  {
   "cell_type": "code",
   "execution_count": 123,
   "outputs": [
    {
     "name": "stdout",
     "output_type": "stream",
     "text": [
      "Data size after dropping Null values is 99.5% of the original data size\n"
     ]
    }
   ],
   "source": [
    "df = pd.read_csv(r'framingham_heart_disease.csv')\n",
    "df = df[['male', 'age', 'BMI', 'heartRate', 'sysBP']]\n",
    "original_size = df.shape[0]\n",
    "df.dropna(how='any', inplace=True)\n",
    "no_null_size = df.shape[0]\n",
    "df.insert(loc=0, column='intercept', value=1)\n",
    "print(f'Data size after dropping Null values is'\n",
    " f' {no_null_size / original_size * 100:0.3}% of the original data size')"
   ],
   "metadata": {
    "collapsed": false
   }
  },
  {
   "cell_type": "code",
   "execution_count": 124,
   "outputs": [],
   "source": [
    "def generate_sample(df, size):\n",
    "    np.random.seed(555)\n",
    "    flag = True\n",
    "    sample = None\n",
    "    while flag: #will take another sample if there is one sex only\n",
    "        sample = df.sample(size,ignore_index=True)\n",
    "        counts_gender = sample[['male', 'sysBP']].groupby('male').count()\n",
    "        male_count = counts_gender['sysBP'][1]\n",
    "        female_count = counts_gender['sysBP'][0]\n",
    "        if female_count != 0 and male_count != 0:\n",
    "            if abs(female_count - male_count) <= size * 0.1:\n",
    "                flag = False\n",
    "    return sample\n",
    "\n",
    "sample = generate_sample(df, 200)\n",
    "X_variables = ['intercept','age', 'BMI', 'heartRate']\n",
    "y = 'sysBP'\n",
    "X_sample = sample[X_variables]\n",
    "y_sample = sample[y]"
   ],
   "metadata": {
    "collapsed": false
   }
  },
  {
   "cell_type": "code",
   "execution_count": 163,
   "outputs": [],
   "source": [
    "import scipy.stats as stats\n",
    "z_alpha = stats.norm.ppf(0.975)\n",
    "#Q1.a\n",
    "def calculate_beta(X, y):\n",
    "    # Calculate MLE\n",
    "    C = X.T @ X\n",
    "    C_inv = np.linalg.inv(C)\n",
    "    C_inv_X = C_inv @ X.T\n",
    "    beta = C_inv_X @ y\n",
    "    return np.round(beta, 4).to_numpy()\n",
    "\n",
    "def beta_CI(X, y, beta_sample, x_variables):\n",
    "    n = X.shape[0]\n",
    "    p = X.shape[1]\n",
    "    C = np.linalg.inv(X.T @ X)\n",
    "    e = y - np.dot(X,beta_sample) #residuals\n",
    "    res_var_estimate = (1 / (n - p)) * (e.T @ e) #sigma-hat squared\n",
    "    CI = {}\n",
    "    for i, variable in enumerate(x_variables):\n",
    "        std_estimate = np.sqrt(res_var_estimate * (C[i][i])) #SE of Beta_i\n",
    "        CI[i] = np.round([beta_sample[i] - z_alpha * std_estimate,\n",
    "                            beta_sample[i] + z_alpha * std_estimate], 4)\n",
    "    return CI"
   ],
   "metadata": {
    "collapsed": false
   }
  },
  {
   "cell_type": "code",
   "execution_count": 171,
   "outputs": [
    {
     "name": "stdout",
     "output_type": "stream",
     "text": [
      "Beta = [41.7462  0.9039  0.785   0.3429]\n",
      "CI for beta_0 is: [15.3282 68.1642]\n",
      "CI for beta_1 is: [0.6169 1.1909]\n",
      "CI for beta_2 is: [0.0966 1.4734]\n",
      "CI for beta_3 is: [0.1438 0.542 ]\n"
     ]
    }
   ],
   "source": [
    "beta_sample = calculate_beta(X_sample,y_sample)\n",
    "CI = beta_CI(X_sample, y_sample, beta_sample,X_variables)\n",
    "print(f'Beta = {beta_sample}')\n",
    "for i in range(beta_sample.size):\n",
    "    print(f\"CI for beta_{i} is: {CI[i]}\")\n"
   ],
   "metadata": {
    "collapsed": false
   }
  },
  {
   "cell_type": "code",
   "execution_count": 175,
   "outputs": [
    {
     "name": "stdout",
     "output_type": "stream",
     "text": [
      "CI for beta_0 is: [20.7928 62.6996]\n",
      "CI for beta_1 is: [0.6238 1.184 ]\n",
      "CI for beta_2 is: [0.007 1.563]\n",
      "CI for beta_3 is: [0.1655 0.5203]\n"
     ]
    }
   ],
   "source": [
    "B = 400\n",
    "sample_size = 200\n",
    "# bootstrap_samples = []\n",
    "bootstrap_beta_var = []\n",
    "np.random.seed(555)\n",
    "for i in range(B):\n",
    "    idx_i = np.random.choice(np.arange(0,sample_size),sample_size)\n",
    "    sample_i = sample.loc[idx_i]\n",
    "    X_i = sample_i[X_variables]\n",
    "    y_i = sample_i[y]\n",
    "    bootstrap_beta = calculate_beta(X_i,y_i)\n",
    "    # bootstrap_samples.append(sample_i)\n",
    "    bootstrap_beta_var.append(bootstrap_beta)\n",
    "beta_se = np.std(bootstrap_beta_var,axis=0)\n",
    "CI = {}\n",
    "for i in range(X_sample.shape[1]):\n",
    "    CI[i] = np.round([beta_sample[i] - z_alpha * beta_se[i],\n",
    "                        beta_sample[i] + z_alpha * beta_se[i]], 4)\n",
    "    print(f\"CI for beta_{i} is: {CI[i]}\")"
   ],
   "metadata": {
    "collapsed": false
   }
  }
 ],
 "metadata": {
  "kernelspec": {
   "display_name": "Python 3",
   "language": "python",
   "name": "python3"
  },
  "language_info": {
   "codemirror_mode": {
    "name": "ipython",
    "version": 2
   },
   "file_extension": ".py",
   "mimetype": "text/x-python",
   "name": "python",
   "nbconvert_exporter": "python",
   "pygments_lexer": "ipython2",
   "version": "2.7.6"
  }
 },
 "nbformat": 4,
 "nbformat_minor": 0
}
